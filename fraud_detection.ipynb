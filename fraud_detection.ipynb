{
  "cells": [
    {
      "cell_type": "code",
      "execution_count": null,
      "metadata": {
        "id": "qUVKGym5QqfW"
      },
      "outputs": [],
      "source": [
        "!mkdir -p ~/.kaggle\n",
        "!cp kaggle.json ~/.kaggle/"
      ]
    },
    {
      "cell_type": "code",
      "execution_count": null,
      "metadata": {
        "colab": {
          "base_uri": "https://localhost:8080/"
        },
        "id": "s5wx7Um_T64n",
        "outputId": "007e83be-284c-4fd9-9fe5-9afec227701a"
      },
      "outputs": [
        {
          "output_type": "stream",
          "name": "stdout",
          "text": [
            "Warning: Your Kaggle API key is readable by other users on this system! To fix this, you can run 'chmod 600 /root/.kaggle/kaggle.json'\n",
            "creditcardfraud.zip: Skipping, found more recently modified local copy (use --force to force download)\n"
          ]
        }
      ],
      "source": [
        "!kaggle datasets download -d mlg-ulb/creditcardfraud"
      ]
    },
    {
      "cell_type": "code",
      "execution_count": null,
      "metadata": {
        "id": "d63hj8LFT71z"
      },
      "outputs": [],
      "source": [
        "import zipfile\n",
        "f = zipfile.ZipFile(\"/content/creditcardfraud.zip\", \"r\")\n",
        "f.extractall(\"/content\")\n",
        "f.close()"
      ]
    },
    {
      "cell_type": "markdown",
      "metadata": {
        "id": "lhFuBYT6V1wy"
      },
      "source": [
        "### Context\n",
        "It is important that credit card companies are able to recognize fraudulent credit card transactions so that customers are not charged for items that they did not purchase."
      ]
    },
    {
      "cell_type": "markdown",
      "metadata": {
        "id": "4w0RgJcaV33a"
      },
      "source": [
        "## Gathering Sense of Data"
      ]
    },
    {
      "cell_type": "code",
      "execution_count": null,
      "metadata": {
        "id": "ui52JZzHT9K3"
      },
      "outputs": [],
      "source": [
        "#Common Imports\n",
        "\n",
        "import pandas as pd\n",
        "import numpy as np\n",
        "import seaborn as sns\n",
        "import matplotlib.pyplot as plt\n",
        "\n",
        "# import warnings\n",
        "# warnings.filterwarnings(\"ignore\")\n",
        "\n",
        "%matplotlib inline"
      ]
    },
    {
      "cell_type": "code",
      "execution_count": null,
      "metadata": {
        "id": "ImBVubOMVDqf"
      },
      "outputs": [],
      "source": [
        "df = pd.read_csv(\"/content/creditcard.csv\")"
      ]
    },
    {
      "cell_type": "code",
      "execution_count": null,
      "metadata": {
        "colab": {
          "base_uri": "https://localhost:8080/",
          "height": 256
        },
        "id": "PhzCE_wlVICp",
        "outputId": "f0432365-d5f1-43a8-b1a5-d437ba2253c9"
      },
      "outputs": [
        {
          "output_type": "execute_result",
          "data": {
            "text/plain": [
              "   Time        V1        V2        V3        V4        V5        V6        V7  \\\n",
              "0   0.0 -1.359807 -0.072781  2.536347  1.378155 -0.338321  0.462388  0.239599   \n",
              "1   0.0  1.191857  0.266151  0.166480  0.448154  0.060018 -0.082361 -0.078803   \n",
              "2   1.0 -1.358354 -1.340163  1.773209  0.379780 -0.503198  1.800499  0.791461   \n",
              "3   1.0 -0.966272 -0.185226  1.792993 -0.863291 -0.010309  1.247203  0.237609   \n",
              "4   2.0 -1.158233  0.877737  1.548718  0.403034 -0.407193  0.095921  0.592941   \n",
              "\n",
              "         V8        V9  ...       V21       V22       V23       V24       V25  \\\n",
              "0  0.098698  0.363787  ... -0.018307  0.277838 -0.110474  0.066928  0.128539   \n",
              "1  0.085102 -0.255425  ... -0.225775 -0.638672  0.101288 -0.339846  0.167170   \n",
              "2  0.247676 -1.514654  ...  0.247998  0.771679  0.909412 -0.689281 -0.327642   \n",
              "3  0.377436 -1.387024  ... -0.108300  0.005274 -0.190321 -1.175575  0.647376   \n",
              "4 -0.270533  0.817739  ... -0.009431  0.798278 -0.137458  0.141267 -0.206010   \n",
              "\n",
              "        V26       V27       V28  Amount  Class  \n",
              "0 -0.189115  0.133558 -0.021053  149.62      0  \n",
              "1  0.125895 -0.008983  0.014724    2.69      0  \n",
              "2 -0.139097 -0.055353 -0.059752  378.66      0  \n",
              "3 -0.221929  0.062723  0.061458  123.50      0  \n",
              "4  0.502292  0.219422  0.215153   69.99      0  \n",
              "\n",
              "[5 rows x 31 columns]"
            ],
            "text/html": [
              "\n",
              "  <div id=\"df-328b1230-8ca0-4c1e-ba79-e763f32a6f93\" class=\"colab-df-container\">\n",
              "    <div>\n",
              "<style scoped>\n",
              "    .dataframe tbody tr th:only-of-type {\n",
              "        vertical-align: middle;\n",
              "    }\n",
              "\n",
              "    .dataframe tbody tr th {\n",
              "        vertical-align: top;\n",
              "    }\n",
              "\n",
              "    .dataframe thead th {\n",
              "        text-align: right;\n",
              "    }\n",
              "</style>\n",
              "<table border=\"1\" class=\"dataframe\">\n",
              "  <thead>\n",
              "    <tr style=\"text-align: right;\">\n",
              "      <th></th>\n",
              "      <th>Time</th>\n",
              "      <th>V1</th>\n",
              "      <th>V2</th>\n",
              "      <th>V3</th>\n",
              "      <th>V4</th>\n",
              "      <th>V5</th>\n",
              "      <th>V6</th>\n",
              "      <th>V7</th>\n",
              "      <th>V8</th>\n",
              "      <th>V9</th>\n",
              "      <th>...</th>\n",
              "      <th>V21</th>\n",
              "      <th>V22</th>\n",
              "      <th>V23</th>\n",
              "      <th>V24</th>\n",
              "      <th>V25</th>\n",
              "      <th>V26</th>\n",
              "      <th>V27</th>\n",
              "      <th>V28</th>\n",
              "      <th>Amount</th>\n",
              "      <th>Class</th>\n",
              "    </tr>\n",
              "  </thead>\n",
              "  <tbody>\n",
              "    <tr>\n",
              "      <th>0</th>\n",
              "      <td>0.0</td>\n",
              "      <td>-1.359807</td>\n",
              "      <td>-0.072781</td>\n",
              "      <td>2.536347</td>\n",
              "      <td>1.378155</td>\n",
              "      <td>-0.338321</td>\n",
              "      <td>0.462388</td>\n",
              "      <td>0.239599</td>\n",
              "      <td>0.098698</td>\n",
              "      <td>0.363787</td>\n",
              "      <td>...</td>\n",
              "      <td>-0.018307</td>\n",
              "      <td>0.277838</td>\n",
              "      <td>-0.110474</td>\n",
              "      <td>0.066928</td>\n",
              "      <td>0.128539</td>\n",
              "      <td>-0.189115</td>\n",
              "      <td>0.133558</td>\n",
              "      <td>-0.021053</td>\n",
              "      <td>149.62</td>\n",
              "      <td>0</td>\n",
              "    </tr>\n",
              "    <tr>\n",
              "      <th>1</th>\n",
              "      <td>0.0</td>\n",
              "      <td>1.191857</td>\n",
              "      <td>0.266151</td>\n",
              "      <td>0.166480</td>\n",
              "      <td>0.448154</td>\n",
              "      <td>0.060018</td>\n",
              "      <td>-0.082361</td>\n",
              "      <td>-0.078803</td>\n",
              "      <td>0.085102</td>\n",
              "      <td>-0.255425</td>\n",
              "      <td>...</td>\n",
              "      <td>-0.225775</td>\n",
              "      <td>-0.638672</td>\n",
              "      <td>0.101288</td>\n",
              "      <td>-0.339846</td>\n",
              "      <td>0.167170</td>\n",
              "      <td>0.125895</td>\n",
              "      <td>-0.008983</td>\n",
              "      <td>0.014724</td>\n",
              "      <td>2.69</td>\n",
              "      <td>0</td>\n",
              "    </tr>\n",
              "    <tr>\n",
              "      <th>2</th>\n",
              "      <td>1.0</td>\n",
              "      <td>-1.358354</td>\n",
              "      <td>-1.340163</td>\n",
              "      <td>1.773209</td>\n",
              "      <td>0.379780</td>\n",
              "      <td>-0.503198</td>\n",
              "      <td>1.800499</td>\n",
              "      <td>0.791461</td>\n",
              "      <td>0.247676</td>\n",
              "      <td>-1.514654</td>\n",
              "      <td>...</td>\n",
              "      <td>0.247998</td>\n",
              "      <td>0.771679</td>\n",
              "      <td>0.909412</td>\n",
              "      <td>-0.689281</td>\n",
              "      <td>-0.327642</td>\n",
              "      <td>-0.139097</td>\n",
              "      <td>-0.055353</td>\n",
              "      <td>-0.059752</td>\n",
              "      <td>378.66</td>\n",
              "      <td>0</td>\n",
              "    </tr>\n",
              "    <tr>\n",
              "      <th>3</th>\n",
              "      <td>1.0</td>\n",
              "      <td>-0.966272</td>\n",
              "      <td>-0.185226</td>\n",
              "      <td>1.792993</td>\n",
              "      <td>-0.863291</td>\n",
              "      <td>-0.010309</td>\n",
              "      <td>1.247203</td>\n",
              "      <td>0.237609</td>\n",
              "      <td>0.377436</td>\n",
              "      <td>-1.387024</td>\n",
              "      <td>...</td>\n",
              "      <td>-0.108300</td>\n",
              "      <td>0.005274</td>\n",
              "      <td>-0.190321</td>\n",
              "      <td>-1.175575</td>\n",
              "      <td>0.647376</td>\n",
              "      <td>-0.221929</td>\n",
              "      <td>0.062723</td>\n",
              "      <td>0.061458</td>\n",
              "      <td>123.50</td>\n",
              "      <td>0</td>\n",
              "    </tr>\n",
              "    <tr>\n",
              "      <th>4</th>\n",
              "      <td>2.0</td>\n",
              "      <td>-1.158233</td>\n",
              "      <td>0.877737</td>\n",
              "      <td>1.548718</td>\n",
              "      <td>0.403034</td>\n",
              "      <td>-0.407193</td>\n",
              "      <td>0.095921</td>\n",
              "      <td>0.592941</td>\n",
              "      <td>-0.270533</td>\n",
              "      <td>0.817739</td>\n",
              "      <td>...</td>\n",
              "      <td>-0.009431</td>\n",
              "      <td>0.798278</td>\n",
              "      <td>-0.137458</td>\n",
              "      <td>0.141267</td>\n",
              "      <td>-0.206010</td>\n",
              "      <td>0.502292</td>\n",
              "      <td>0.219422</td>\n",
              "      <td>0.215153</td>\n",
              "      <td>69.99</td>\n",
              "      <td>0</td>\n",
              "    </tr>\n",
              "  </tbody>\n",
              "</table>\n",
              "<p>5 rows × 31 columns</p>\n",
              "</div>\n",
              "    <div class=\"colab-df-buttons\">\n",
              "\n",
              "  <div class=\"colab-df-container\">\n",
              "    <button class=\"colab-df-convert\" onclick=\"convertToInteractive('df-328b1230-8ca0-4c1e-ba79-e763f32a6f93')\"\n",
              "            title=\"Convert this dataframe to an interactive table.\"\n",
              "            style=\"display:none;\">\n",
              "\n",
              "  <svg xmlns=\"http://www.w3.org/2000/svg\" height=\"24px\" viewBox=\"0 -960 960 960\">\n",
              "    <path d=\"M120-120v-720h720v720H120Zm60-500h600v-160H180v160Zm220 220h160v-160H400v160Zm0 220h160v-160H400v160ZM180-400h160v-160H180v160Zm440 0h160v-160H620v160ZM180-180h160v-160H180v160Zm440 0h160v-160H620v160Z\"/>\n",
              "  </svg>\n",
              "    </button>\n",
              "\n",
              "  <style>\n",
              "    .colab-df-container {\n",
              "      display:flex;\n",
              "      gap: 12px;\n",
              "    }\n",
              "\n",
              "    .colab-df-convert {\n",
              "      background-color: #E8F0FE;\n",
              "      border: none;\n",
              "      border-radius: 50%;\n",
              "      cursor: pointer;\n",
              "      display: none;\n",
              "      fill: #1967D2;\n",
              "      height: 32px;\n",
              "      padding: 0 0 0 0;\n",
              "      width: 32px;\n",
              "    }\n",
              "\n",
              "    .colab-df-convert:hover {\n",
              "      background-color: #E2EBFA;\n",
              "      box-shadow: 0px 1px 2px rgba(60, 64, 67, 0.3), 0px 1px 3px 1px rgba(60, 64, 67, 0.15);\n",
              "      fill: #174EA6;\n",
              "    }\n",
              "\n",
              "    .colab-df-buttons div {\n",
              "      margin-bottom: 4px;\n",
              "    }\n",
              "\n",
              "    [theme=dark] .colab-df-convert {\n",
              "      background-color: #3B4455;\n",
              "      fill: #D2E3FC;\n",
              "    }\n",
              "\n",
              "    [theme=dark] .colab-df-convert:hover {\n",
              "      background-color: #434B5C;\n",
              "      box-shadow: 0px 1px 3px 1px rgba(0, 0, 0, 0.15);\n",
              "      filter: drop-shadow(0px 1px 2px rgba(0, 0, 0, 0.3));\n",
              "      fill: #FFFFFF;\n",
              "    }\n",
              "  </style>\n",
              "\n",
              "    <script>\n",
              "      const buttonEl =\n",
              "        document.querySelector('#df-328b1230-8ca0-4c1e-ba79-e763f32a6f93 button.colab-df-convert');\n",
              "      buttonEl.style.display =\n",
              "        google.colab.kernel.accessAllowed ? 'block' : 'none';\n",
              "\n",
              "      async function convertToInteractive(key) {\n",
              "        const element = document.querySelector('#df-328b1230-8ca0-4c1e-ba79-e763f32a6f93');\n",
              "        const dataTable =\n",
              "          await google.colab.kernel.invokeFunction('convertToInteractive',\n",
              "                                                    [key], {});\n",
              "        if (!dataTable) return;\n",
              "\n",
              "        const docLinkHtml = 'Like what you see? Visit the ' +\n",
              "          '<a target=\"_blank\" href=https://colab.research.google.com/notebooks/data_table.ipynb>data table notebook</a>'\n",
              "          + ' to learn more about interactive tables.';\n",
              "        element.innerHTML = '';\n",
              "        dataTable['output_type'] = 'display_data';\n",
              "        await google.colab.output.renderOutput(dataTable, element);\n",
              "        const docLink = document.createElement('div');\n",
              "        docLink.innerHTML = docLinkHtml;\n",
              "        element.appendChild(docLink);\n",
              "      }\n",
              "    </script>\n",
              "  </div>\n",
              "\n",
              "\n",
              "<div id=\"df-ab81b02f-052d-432c-8818-86793351fa63\">\n",
              "  <button class=\"colab-df-quickchart\" onclick=\"quickchart('df-ab81b02f-052d-432c-8818-86793351fa63')\"\n",
              "            title=\"Suggest charts\"\n",
              "            style=\"display:none;\">\n",
              "\n",
              "<svg xmlns=\"http://www.w3.org/2000/svg\" height=\"24px\"viewBox=\"0 0 24 24\"\n",
              "     width=\"24px\">\n",
              "    <g>\n",
              "        <path d=\"M19 3H5c-1.1 0-2 .9-2 2v14c0 1.1.9 2 2 2h14c1.1 0 2-.9 2-2V5c0-1.1-.9-2-2-2zM9 17H7v-7h2v7zm4 0h-2V7h2v10zm4 0h-2v-4h2v4z\"/>\n",
              "    </g>\n",
              "</svg>\n",
              "  </button>\n",
              "\n",
              "<style>\n",
              "  .colab-df-quickchart {\n",
              "      --bg-color: #E8F0FE;\n",
              "      --fill-color: #1967D2;\n",
              "      --hover-bg-color: #E2EBFA;\n",
              "      --hover-fill-color: #174EA6;\n",
              "      --disabled-fill-color: #AAA;\n",
              "      --disabled-bg-color: #DDD;\n",
              "  }\n",
              "\n",
              "  [theme=dark] .colab-df-quickchart {\n",
              "      --bg-color: #3B4455;\n",
              "      --fill-color: #D2E3FC;\n",
              "      --hover-bg-color: #434B5C;\n",
              "      --hover-fill-color: #FFFFFF;\n",
              "      --disabled-bg-color: #3B4455;\n",
              "      --disabled-fill-color: #666;\n",
              "  }\n",
              "\n",
              "  .colab-df-quickchart {\n",
              "    background-color: var(--bg-color);\n",
              "    border: none;\n",
              "    border-radius: 50%;\n",
              "    cursor: pointer;\n",
              "    display: none;\n",
              "    fill: var(--fill-color);\n",
              "    height: 32px;\n",
              "    padding: 0;\n",
              "    width: 32px;\n",
              "  }\n",
              "\n",
              "  .colab-df-quickchart:hover {\n",
              "    background-color: var(--hover-bg-color);\n",
              "    box-shadow: 0 1px 2px rgba(60, 64, 67, 0.3), 0 1px 3px 1px rgba(60, 64, 67, 0.15);\n",
              "    fill: var(--button-hover-fill-color);\n",
              "  }\n",
              "\n",
              "  .colab-df-quickchart-complete:disabled,\n",
              "  .colab-df-quickchart-complete:disabled:hover {\n",
              "    background-color: var(--disabled-bg-color);\n",
              "    fill: var(--disabled-fill-color);\n",
              "    box-shadow: none;\n",
              "  }\n",
              "\n",
              "  .colab-df-spinner {\n",
              "    border: 2px solid var(--fill-color);\n",
              "    border-color: transparent;\n",
              "    border-bottom-color: var(--fill-color);\n",
              "    animation:\n",
              "      spin 1s steps(1) infinite;\n",
              "  }\n",
              "\n",
              "  @keyframes spin {\n",
              "    0% {\n",
              "      border-color: transparent;\n",
              "      border-bottom-color: var(--fill-color);\n",
              "      border-left-color: var(--fill-color);\n",
              "    }\n",
              "    20% {\n",
              "      border-color: transparent;\n",
              "      border-left-color: var(--fill-color);\n",
              "      border-top-color: var(--fill-color);\n",
              "    }\n",
              "    30% {\n",
              "      border-color: transparent;\n",
              "      border-left-color: var(--fill-color);\n",
              "      border-top-color: var(--fill-color);\n",
              "      border-right-color: var(--fill-color);\n",
              "    }\n",
              "    40% {\n",
              "      border-color: transparent;\n",
              "      border-right-color: var(--fill-color);\n",
              "      border-top-color: var(--fill-color);\n",
              "    }\n",
              "    60% {\n",
              "      border-color: transparent;\n",
              "      border-right-color: var(--fill-color);\n",
              "    }\n",
              "    80% {\n",
              "      border-color: transparent;\n",
              "      border-right-color: var(--fill-color);\n",
              "      border-bottom-color: var(--fill-color);\n",
              "    }\n",
              "    90% {\n",
              "      border-color: transparent;\n",
              "      border-bottom-color: var(--fill-color);\n",
              "    }\n",
              "  }\n",
              "</style>\n",
              "\n",
              "  <script>\n",
              "    async function quickchart(key) {\n",
              "      const quickchartButtonEl =\n",
              "        document.querySelector('#' + key + ' button');\n",
              "      quickchartButtonEl.disabled = true;  // To prevent multiple clicks.\n",
              "      quickchartButtonEl.classList.add('colab-df-spinner');\n",
              "      try {\n",
              "        const charts = await google.colab.kernel.invokeFunction(\n",
              "            'suggestCharts', [key], {});\n",
              "      } catch (error) {\n",
              "        console.error('Error during call to suggestCharts:', error);\n",
              "      }\n",
              "      quickchartButtonEl.classList.remove('colab-df-spinner');\n",
              "      quickchartButtonEl.classList.add('colab-df-quickchart-complete');\n",
              "    }\n",
              "    (() => {\n",
              "      let quickchartButtonEl =\n",
              "        document.querySelector('#df-ab81b02f-052d-432c-8818-86793351fa63 button');\n",
              "      quickchartButtonEl.style.display =\n",
              "        google.colab.kernel.accessAllowed ? 'block' : 'none';\n",
              "    })();\n",
              "  </script>\n",
              "</div>\n",
              "\n",
              "    </div>\n",
              "  </div>\n"
            ],
            "application/vnd.google.colaboratory.intrinsic+json": {
              "type": "dataframe",
              "variable_name": "df"
            }
          },
          "metadata": {},
          "execution_count": 73
        }
      ],
      "source": [
        "df.head()"
      ]
    },
    {
      "cell_type": "code",
      "execution_count": null,
      "metadata": {
        "colab": {
          "base_uri": "https://localhost:8080/"
        },
        "id": "jTshjDBCWdv_",
        "outputId": "c9fec5af-3739-4231-b75b-0eb3782435da"
      },
      "outputs": [
        {
          "output_type": "execute_result",
          "data": {
            "text/plain": [
              "(284807, 31)"
            ]
          },
          "metadata": {},
          "execution_count": 74
        }
      ],
      "source": [
        "df.shape"
      ]
    },
    {
      "cell_type": "markdown",
      "metadata": {
        "id": "mrlucv2aWSeb"
      },
      "source": [
        "This dataset presents transactions that occurred in two days, where we have 492 frauds out of 284,807 transactions. The dataset is highly unbalanced, the positive class (frauds) account for 0.172% of all transactions.\n",
        "\n",
        "It contains only numerical input variables which are the result of a PCA transformation. Unfortunately, due to confidentiality issues, we cannot provide the original features and more background information about the data. Features V1, V2, … V28 are the principal components obtained with PCA, the only features which have not been transformed with PCA are 'Time' and 'Amount'."
      ]
    },
    {
      "cell_type": "code",
      "execution_count": null,
      "metadata": {
        "colab": {
          "base_uri": "https://localhost:8080/"
        },
        "id": "zXeC6vUSVOvA",
        "outputId": "7dacf70a-f833-42be-8e36-1c97b1c99a47"
      },
      "outputs": [
        {
          "output_type": "stream",
          "name": "stdout",
          "text": [
            "<class 'pandas.core.frame.DataFrame'>\n",
            "RangeIndex: 284807 entries, 0 to 284806\n",
            "Data columns (total 31 columns):\n",
            " #   Column  Non-Null Count   Dtype  \n",
            "---  ------  --------------   -----  \n",
            " 0   Time    284807 non-null  float64\n",
            " 1   V1      284807 non-null  float64\n",
            " 2   V2      284807 non-null  float64\n",
            " 3   V3      284807 non-null  float64\n",
            " 4   V4      284807 non-null  float64\n",
            " 5   V5      284807 non-null  float64\n",
            " 6   V6      284807 non-null  float64\n",
            " 7   V7      284807 non-null  float64\n",
            " 8   V8      284807 non-null  float64\n",
            " 9   V9      284807 non-null  float64\n",
            " 10  V10     284807 non-null  float64\n",
            " 11  V11     284807 non-null  float64\n",
            " 12  V12     284807 non-null  float64\n",
            " 13  V13     284807 non-null  float64\n",
            " 14  V14     284807 non-null  float64\n",
            " 15  V15     284807 non-null  float64\n",
            " 16  V16     284807 non-null  float64\n",
            " 17  V17     284807 non-null  float64\n",
            " 18  V18     284807 non-null  float64\n",
            " 19  V19     284807 non-null  float64\n",
            " 20  V20     284807 non-null  float64\n",
            " 21  V21     284807 non-null  float64\n",
            " 22  V22     284807 non-null  float64\n",
            " 23  V23     284807 non-null  float64\n",
            " 24  V24     284807 non-null  float64\n",
            " 25  V25     284807 non-null  float64\n",
            " 26  V26     284807 non-null  float64\n",
            " 27  V27     284807 non-null  float64\n",
            " 28  V28     284807 non-null  float64\n",
            " 29  Amount  284807 non-null  float64\n",
            " 30  Class   284807 non-null  int64  \n",
            "dtypes: float64(30), int64(1)\n",
            "memory usage: 67.4 MB\n"
          ]
        }
      ],
      "source": [
        "df.info()"
      ]
    },
    {
      "cell_type": "markdown",
      "metadata": {
        "id": "zAzKBzMoWmfg"
      },
      "source": [
        "## Null and Duplicates"
      ]
    },
    {
      "cell_type": "code",
      "execution_count": null,
      "metadata": {
        "colab": {
          "base_uri": "https://localhost:8080/"
        },
        "id": "J8OQSC6yWg8H",
        "outputId": "19c9f0fb-fdd4-47c9-bf77-7c1d802243e7"
      },
      "outputs": [
        {
          "output_type": "execute_result",
          "data": {
            "text/plain": [
              "0"
            ]
          },
          "metadata": {},
          "execution_count": 76
        }
      ],
      "source": [
        "#Null\n",
        "\n",
        "df.isnull().sum().sum()"
      ]
    },
    {
      "cell_type": "code",
      "execution_count": null,
      "metadata": {
        "colab": {
          "base_uri": "https://localhost:8080/",
          "height": 444
        },
        "id": "TCSzgh0SWq6j",
        "outputId": "f61653ac-80c5-481e-d073-d4a18579cd2e"
      },
      "outputs": [
        {
          "output_type": "execute_result",
          "data": {
            "text/plain": [
              "            Time        V1        V2        V3        V4        V5        V6  \\\n",
              "33          26.0 -0.529912  0.873892  1.347247  0.145457  0.414209  0.100223   \n",
              "35          26.0 -0.535388  0.865268  1.351076  0.147575  0.433680  0.086983   \n",
              "113         74.0  1.038370  0.127486  0.184456  1.109950  0.441699  0.945283   \n",
              "114         74.0  1.038370  0.127486  0.184456  1.109950  0.441699  0.945283   \n",
              "115         74.0  1.038370  0.127486  0.184456  1.109950  0.441699  0.945283   \n",
              "...          ...       ...       ...       ...       ...       ...       ...   \n",
              "282987  171288.0  1.912550 -0.455240 -1.750654  0.454324  2.089130  4.160019   \n",
              "283483  171627.0 -1.464380  1.368119  0.815992 -0.601282 -0.689115 -0.487154   \n",
              "283485  171627.0 -1.457978  1.378203  0.811515 -0.603760 -0.711883 -0.471672   \n",
              "284191  172233.0 -2.667936  3.160505 -3.355984  1.007845 -0.377397 -0.109730   \n",
              "284193  172233.0 -2.691642  3.123168 -3.339407  1.017018 -0.293095 -0.167054   \n",
              "\n",
              "              V7        V8        V9  ...       V21       V22       V23  \\\n",
              "33      0.711206  0.176066 -0.286717  ...  0.046949  0.208105 -0.185548   \n",
              "35      0.693039  0.179742 -0.285642  ...  0.049526  0.206537 -0.187108   \n",
              "113    -0.036715  0.350995  0.118950  ...  0.102520  0.605089  0.023092   \n",
              "114    -0.036715  0.350995  0.118950  ...  0.102520  0.605089  0.023092   \n",
              "115    -0.036715  0.350995  0.118950  ...  0.102520  0.605089  0.023092   \n",
              "...          ...       ...       ...  ...       ...       ...       ...   \n",
              "282987 -0.881302  1.081750  1.022928  ... -0.524067 -1.337510  0.473943   \n",
              "283483 -0.303778  0.884953  0.054065  ...  0.287217  0.947825 -0.218773   \n",
              "283485 -0.282535  0.880654  0.052808  ...  0.284205  0.949659 -0.216949   \n",
              "284191 -0.667233  2.309700 -1.639306  ...  0.391483  0.266536 -0.079853   \n",
              "284193 -0.745886  2.325616 -1.634651  ...  0.402639  0.259746 -0.086606   \n",
              "\n",
              "             V24       V25       V26       V27       V28  Amount  Class  \n",
              "33      0.001031  0.098816 -0.552904 -0.073288  0.023307    6.14      0  \n",
              "35      0.000753  0.098117 -0.553471 -0.078306  0.025427    1.77      0  \n",
              "113    -0.626463  0.479120 -0.166937  0.081247  0.001192    1.18      0  \n",
              "114    -0.626463  0.479120 -0.166937  0.081247  0.001192    1.18      0  \n",
              "115    -0.626463  0.479120 -0.166937  0.081247  0.001192    1.18      0  \n",
              "...          ...       ...       ...       ...       ...     ...    ...  \n",
              "282987  0.616683 -0.283548 -1.084843  0.073133 -0.036020   11.99      0  \n",
              "283483  0.082926  0.044127  0.639270  0.213565  0.119251    6.82      0  \n",
              "283485  0.083250  0.044944  0.639933  0.219432  0.116772   11.93      0  \n",
              "284191 -0.096395  0.086719 -0.451128 -1.183743 -0.222200   55.66      0  \n",
              "284193 -0.097597  0.083693 -0.453584 -1.205466 -0.213020   36.74      0  \n",
              "\n",
              "[1081 rows x 31 columns]"
            ],
            "text/html": [
              "\n",
              "  <div id=\"df-8a372483-b964-434c-92e5-59cff4cd0d52\" class=\"colab-df-container\">\n",
              "    <div>\n",
              "<style scoped>\n",
              "    .dataframe tbody tr th:only-of-type {\n",
              "        vertical-align: middle;\n",
              "    }\n",
              "\n",
              "    .dataframe tbody tr th {\n",
              "        vertical-align: top;\n",
              "    }\n",
              "\n",
              "    .dataframe thead th {\n",
              "        text-align: right;\n",
              "    }\n",
              "</style>\n",
              "<table border=\"1\" class=\"dataframe\">\n",
              "  <thead>\n",
              "    <tr style=\"text-align: right;\">\n",
              "      <th></th>\n",
              "      <th>Time</th>\n",
              "      <th>V1</th>\n",
              "      <th>V2</th>\n",
              "      <th>V3</th>\n",
              "      <th>V4</th>\n",
              "      <th>V5</th>\n",
              "      <th>V6</th>\n",
              "      <th>V7</th>\n",
              "      <th>V8</th>\n",
              "      <th>V9</th>\n",
              "      <th>...</th>\n",
              "      <th>V21</th>\n",
              "      <th>V22</th>\n",
              "      <th>V23</th>\n",
              "      <th>V24</th>\n",
              "      <th>V25</th>\n",
              "      <th>V26</th>\n",
              "      <th>V27</th>\n",
              "      <th>V28</th>\n",
              "      <th>Amount</th>\n",
              "      <th>Class</th>\n",
              "    </tr>\n",
              "  </thead>\n",
              "  <tbody>\n",
              "    <tr>\n",
              "      <th>33</th>\n",
              "      <td>26.0</td>\n",
              "      <td>-0.529912</td>\n",
              "      <td>0.873892</td>\n",
              "      <td>1.347247</td>\n",
              "      <td>0.145457</td>\n",
              "      <td>0.414209</td>\n",
              "      <td>0.100223</td>\n",
              "      <td>0.711206</td>\n",
              "      <td>0.176066</td>\n",
              "      <td>-0.286717</td>\n",
              "      <td>...</td>\n",
              "      <td>0.046949</td>\n",
              "      <td>0.208105</td>\n",
              "      <td>-0.185548</td>\n",
              "      <td>0.001031</td>\n",
              "      <td>0.098816</td>\n",
              "      <td>-0.552904</td>\n",
              "      <td>-0.073288</td>\n",
              "      <td>0.023307</td>\n",
              "      <td>6.14</td>\n",
              "      <td>0</td>\n",
              "    </tr>\n",
              "    <tr>\n",
              "      <th>35</th>\n",
              "      <td>26.0</td>\n",
              "      <td>-0.535388</td>\n",
              "      <td>0.865268</td>\n",
              "      <td>1.351076</td>\n",
              "      <td>0.147575</td>\n",
              "      <td>0.433680</td>\n",
              "      <td>0.086983</td>\n",
              "      <td>0.693039</td>\n",
              "      <td>0.179742</td>\n",
              "      <td>-0.285642</td>\n",
              "      <td>...</td>\n",
              "      <td>0.049526</td>\n",
              "      <td>0.206537</td>\n",
              "      <td>-0.187108</td>\n",
              "      <td>0.000753</td>\n",
              "      <td>0.098117</td>\n",
              "      <td>-0.553471</td>\n",
              "      <td>-0.078306</td>\n",
              "      <td>0.025427</td>\n",
              "      <td>1.77</td>\n",
              "      <td>0</td>\n",
              "    </tr>\n",
              "    <tr>\n",
              "      <th>113</th>\n",
              "      <td>74.0</td>\n",
              "      <td>1.038370</td>\n",
              "      <td>0.127486</td>\n",
              "      <td>0.184456</td>\n",
              "      <td>1.109950</td>\n",
              "      <td>0.441699</td>\n",
              "      <td>0.945283</td>\n",
              "      <td>-0.036715</td>\n",
              "      <td>0.350995</td>\n",
              "      <td>0.118950</td>\n",
              "      <td>...</td>\n",
              "      <td>0.102520</td>\n",
              "      <td>0.605089</td>\n",
              "      <td>0.023092</td>\n",
              "      <td>-0.626463</td>\n",
              "      <td>0.479120</td>\n",
              "      <td>-0.166937</td>\n",
              "      <td>0.081247</td>\n",
              "      <td>0.001192</td>\n",
              "      <td>1.18</td>\n",
              "      <td>0</td>\n",
              "    </tr>\n",
              "    <tr>\n",
              "      <th>114</th>\n",
              "      <td>74.0</td>\n",
              "      <td>1.038370</td>\n",
              "      <td>0.127486</td>\n",
              "      <td>0.184456</td>\n",
              "      <td>1.109950</td>\n",
              "      <td>0.441699</td>\n",
              "      <td>0.945283</td>\n",
              "      <td>-0.036715</td>\n",
              "      <td>0.350995</td>\n",
              "      <td>0.118950</td>\n",
              "      <td>...</td>\n",
              "      <td>0.102520</td>\n",
              "      <td>0.605089</td>\n",
              "      <td>0.023092</td>\n",
              "      <td>-0.626463</td>\n",
              "      <td>0.479120</td>\n",
              "      <td>-0.166937</td>\n",
              "      <td>0.081247</td>\n",
              "      <td>0.001192</td>\n",
              "      <td>1.18</td>\n",
              "      <td>0</td>\n",
              "    </tr>\n",
              "    <tr>\n",
              "      <th>115</th>\n",
              "      <td>74.0</td>\n",
              "      <td>1.038370</td>\n",
              "      <td>0.127486</td>\n",
              "      <td>0.184456</td>\n",
              "      <td>1.109950</td>\n",
              "      <td>0.441699</td>\n",
              "      <td>0.945283</td>\n",
              "      <td>-0.036715</td>\n",
              "      <td>0.350995</td>\n",
              "      <td>0.118950</td>\n",
              "      <td>...</td>\n",
              "      <td>0.102520</td>\n",
              "      <td>0.605089</td>\n",
              "      <td>0.023092</td>\n",
              "      <td>-0.626463</td>\n",
              "      <td>0.479120</td>\n",
              "      <td>-0.166937</td>\n",
              "      <td>0.081247</td>\n",
              "      <td>0.001192</td>\n",
              "      <td>1.18</td>\n",
              "      <td>0</td>\n",
              "    </tr>\n",
              "    <tr>\n",
              "      <th>...</th>\n",
              "      <td>...</td>\n",
              "      <td>...</td>\n",
              "      <td>...</td>\n",
              "      <td>...</td>\n",
              "      <td>...</td>\n",
              "      <td>...</td>\n",
              "      <td>...</td>\n",
              "      <td>...</td>\n",
              "      <td>...</td>\n",
              "      <td>...</td>\n",
              "      <td>...</td>\n",
              "      <td>...</td>\n",
              "      <td>...</td>\n",
              "      <td>...</td>\n",
              "      <td>...</td>\n",
              "      <td>...</td>\n",
              "      <td>...</td>\n",
              "      <td>...</td>\n",
              "      <td>...</td>\n",
              "      <td>...</td>\n",
              "      <td>...</td>\n",
              "    </tr>\n",
              "    <tr>\n",
              "      <th>282987</th>\n",
              "      <td>171288.0</td>\n",
              "      <td>1.912550</td>\n",
              "      <td>-0.455240</td>\n",
              "      <td>-1.750654</td>\n",
              "      <td>0.454324</td>\n",
              "      <td>2.089130</td>\n",
              "      <td>4.160019</td>\n",
              "      <td>-0.881302</td>\n",
              "      <td>1.081750</td>\n",
              "      <td>1.022928</td>\n",
              "      <td>...</td>\n",
              "      <td>-0.524067</td>\n",
              "      <td>-1.337510</td>\n",
              "      <td>0.473943</td>\n",
              "      <td>0.616683</td>\n",
              "      <td>-0.283548</td>\n",
              "      <td>-1.084843</td>\n",
              "      <td>0.073133</td>\n",
              "      <td>-0.036020</td>\n",
              "      <td>11.99</td>\n",
              "      <td>0</td>\n",
              "    </tr>\n",
              "    <tr>\n",
              "      <th>283483</th>\n",
              "      <td>171627.0</td>\n",
              "      <td>-1.464380</td>\n",
              "      <td>1.368119</td>\n",
              "      <td>0.815992</td>\n",
              "      <td>-0.601282</td>\n",
              "      <td>-0.689115</td>\n",
              "      <td>-0.487154</td>\n",
              "      <td>-0.303778</td>\n",
              "      <td>0.884953</td>\n",
              "      <td>0.054065</td>\n",
              "      <td>...</td>\n",
              "      <td>0.287217</td>\n",
              "      <td>0.947825</td>\n",
              "      <td>-0.218773</td>\n",
              "      <td>0.082926</td>\n",
              "      <td>0.044127</td>\n",
              "      <td>0.639270</td>\n",
              "      <td>0.213565</td>\n",
              "      <td>0.119251</td>\n",
              "      <td>6.82</td>\n",
              "      <td>0</td>\n",
              "    </tr>\n",
              "    <tr>\n",
              "      <th>283485</th>\n",
              "      <td>171627.0</td>\n",
              "      <td>-1.457978</td>\n",
              "      <td>1.378203</td>\n",
              "      <td>0.811515</td>\n",
              "      <td>-0.603760</td>\n",
              "      <td>-0.711883</td>\n",
              "      <td>-0.471672</td>\n",
              "      <td>-0.282535</td>\n",
              "      <td>0.880654</td>\n",
              "      <td>0.052808</td>\n",
              "      <td>...</td>\n",
              "      <td>0.284205</td>\n",
              "      <td>0.949659</td>\n",
              "      <td>-0.216949</td>\n",
              "      <td>0.083250</td>\n",
              "      <td>0.044944</td>\n",
              "      <td>0.639933</td>\n",
              "      <td>0.219432</td>\n",
              "      <td>0.116772</td>\n",
              "      <td>11.93</td>\n",
              "      <td>0</td>\n",
              "    </tr>\n",
              "    <tr>\n",
              "      <th>284191</th>\n",
              "      <td>172233.0</td>\n",
              "      <td>-2.667936</td>\n",
              "      <td>3.160505</td>\n",
              "      <td>-3.355984</td>\n",
              "      <td>1.007845</td>\n",
              "      <td>-0.377397</td>\n",
              "      <td>-0.109730</td>\n",
              "      <td>-0.667233</td>\n",
              "      <td>2.309700</td>\n",
              "      <td>-1.639306</td>\n",
              "      <td>...</td>\n",
              "      <td>0.391483</td>\n",
              "      <td>0.266536</td>\n",
              "      <td>-0.079853</td>\n",
              "      <td>-0.096395</td>\n",
              "      <td>0.086719</td>\n",
              "      <td>-0.451128</td>\n",
              "      <td>-1.183743</td>\n",
              "      <td>-0.222200</td>\n",
              "      <td>55.66</td>\n",
              "      <td>0</td>\n",
              "    </tr>\n",
              "    <tr>\n",
              "      <th>284193</th>\n",
              "      <td>172233.0</td>\n",
              "      <td>-2.691642</td>\n",
              "      <td>3.123168</td>\n",
              "      <td>-3.339407</td>\n",
              "      <td>1.017018</td>\n",
              "      <td>-0.293095</td>\n",
              "      <td>-0.167054</td>\n",
              "      <td>-0.745886</td>\n",
              "      <td>2.325616</td>\n",
              "      <td>-1.634651</td>\n",
              "      <td>...</td>\n",
              "      <td>0.402639</td>\n",
              "      <td>0.259746</td>\n",
              "      <td>-0.086606</td>\n",
              "      <td>-0.097597</td>\n",
              "      <td>0.083693</td>\n",
              "      <td>-0.453584</td>\n",
              "      <td>-1.205466</td>\n",
              "      <td>-0.213020</td>\n",
              "      <td>36.74</td>\n",
              "      <td>0</td>\n",
              "    </tr>\n",
              "  </tbody>\n",
              "</table>\n",
              "<p>1081 rows × 31 columns</p>\n",
              "</div>\n",
              "    <div class=\"colab-df-buttons\">\n",
              "\n",
              "  <div class=\"colab-df-container\">\n",
              "    <button class=\"colab-df-convert\" onclick=\"convertToInteractive('df-8a372483-b964-434c-92e5-59cff4cd0d52')\"\n",
              "            title=\"Convert this dataframe to an interactive table.\"\n",
              "            style=\"display:none;\">\n",
              "\n",
              "  <svg xmlns=\"http://www.w3.org/2000/svg\" height=\"24px\" viewBox=\"0 -960 960 960\">\n",
              "    <path d=\"M120-120v-720h720v720H120Zm60-500h600v-160H180v160Zm220 220h160v-160H400v160Zm0 220h160v-160H400v160ZM180-400h160v-160H180v160Zm440 0h160v-160H620v160ZM180-180h160v-160H180v160Zm440 0h160v-160H620v160Z\"/>\n",
              "  </svg>\n",
              "    </button>\n",
              "\n",
              "  <style>\n",
              "    .colab-df-container {\n",
              "      display:flex;\n",
              "      gap: 12px;\n",
              "    }\n",
              "\n",
              "    .colab-df-convert {\n",
              "      background-color: #E8F0FE;\n",
              "      border: none;\n",
              "      border-radius: 50%;\n",
              "      cursor: pointer;\n",
              "      display: none;\n",
              "      fill: #1967D2;\n",
              "      height: 32px;\n",
              "      padding: 0 0 0 0;\n",
              "      width: 32px;\n",
              "    }\n",
              "\n",
              "    .colab-df-convert:hover {\n",
              "      background-color: #E2EBFA;\n",
              "      box-shadow: 0px 1px 2px rgba(60, 64, 67, 0.3), 0px 1px 3px 1px rgba(60, 64, 67, 0.15);\n",
              "      fill: #174EA6;\n",
              "    }\n",
              "\n",
              "    .colab-df-buttons div {\n",
              "      margin-bottom: 4px;\n",
              "    }\n",
              "\n",
              "    [theme=dark] .colab-df-convert {\n",
              "      background-color: #3B4455;\n",
              "      fill: #D2E3FC;\n",
              "    }\n",
              "\n",
              "    [theme=dark] .colab-df-convert:hover {\n",
              "      background-color: #434B5C;\n",
              "      box-shadow: 0px 1px 3px 1px rgba(0, 0, 0, 0.15);\n",
              "      filter: drop-shadow(0px 1px 2px rgba(0, 0, 0, 0.3));\n",
              "      fill: #FFFFFF;\n",
              "    }\n",
              "  </style>\n",
              "\n",
              "    <script>\n",
              "      const buttonEl =\n",
              "        document.querySelector('#df-8a372483-b964-434c-92e5-59cff4cd0d52 button.colab-df-convert');\n",
              "      buttonEl.style.display =\n",
              "        google.colab.kernel.accessAllowed ? 'block' : 'none';\n",
              "\n",
              "      async function convertToInteractive(key) {\n",
              "        const element = document.querySelector('#df-8a372483-b964-434c-92e5-59cff4cd0d52');\n",
              "        const dataTable =\n",
              "          await google.colab.kernel.invokeFunction('convertToInteractive',\n",
              "                                                    [key], {});\n",
              "        if (!dataTable) return;\n",
              "\n",
              "        const docLinkHtml = 'Like what you see? Visit the ' +\n",
              "          '<a target=\"_blank\" href=https://colab.research.google.com/notebooks/data_table.ipynb>data table notebook</a>'\n",
              "          + ' to learn more about interactive tables.';\n",
              "        element.innerHTML = '';\n",
              "        dataTable['output_type'] = 'display_data';\n",
              "        await google.colab.output.renderOutput(dataTable, element);\n",
              "        const docLink = document.createElement('div');\n",
              "        docLink.innerHTML = docLinkHtml;\n",
              "        element.appendChild(docLink);\n",
              "      }\n",
              "    </script>\n",
              "  </div>\n",
              "\n",
              "\n",
              "<div id=\"df-2cf1a1cb-6961-4676-b0ef-1132b66f554a\">\n",
              "  <button class=\"colab-df-quickchart\" onclick=\"quickchart('df-2cf1a1cb-6961-4676-b0ef-1132b66f554a')\"\n",
              "            title=\"Suggest charts\"\n",
              "            style=\"display:none;\">\n",
              "\n",
              "<svg xmlns=\"http://www.w3.org/2000/svg\" height=\"24px\"viewBox=\"0 0 24 24\"\n",
              "     width=\"24px\">\n",
              "    <g>\n",
              "        <path d=\"M19 3H5c-1.1 0-2 .9-2 2v14c0 1.1.9 2 2 2h14c1.1 0 2-.9 2-2V5c0-1.1-.9-2-2-2zM9 17H7v-7h2v7zm4 0h-2V7h2v10zm4 0h-2v-4h2v4z\"/>\n",
              "    </g>\n",
              "</svg>\n",
              "  </button>\n",
              "\n",
              "<style>\n",
              "  .colab-df-quickchart {\n",
              "      --bg-color: #E8F0FE;\n",
              "      --fill-color: #1967D2;\n",
              "      --hover-bg-color: #E2EBFA;\n",
              "      --hover-fill-color: #174EA6;\n",
              "      --disabled-fill-color: #AAA;\n",
              "      --disabled-bg-color: #DDD;\n",
              "  }\n",
              "\n",
              "  [theme=dark] .colab-df-quickchart {\n",
              "      --bg-color: #3B4455;\n",
              "      --fill-color: #D2E3FC;\n",
              "      --hover-bg-color: #434B5C;\n",
              "      --hover-fill-color: #FFFFFF;\n",
              "      --disabled-bg-color: #3B4455;\n",
              "      --disabled-fill-color: #666;\n",
              "  }\n",
              "\n",
              "  .colab-df-quickchart {\n",
              "    background-color: var(--bg-color);\n",
              "    border: none;\n",
              "    border-radius: 50%;\n",
              "    cursor: pointer;\n",
              "    display: none;\n",
              "    fill: var(--fill-color);\n",
              "    height: 32px;\n",
              "    padding: 0;\n",
              "    width: 32px;\n",
              "  }\n",
              "\n",
              "  .colab-df-quickchart:hover {\n",
              "    background-color: var(--hover-bg-color);\n",
              "    box-shadow: 0 1px 2px rgba(60, 64, 67, 0.3), 0 1px 3px 1px rgba(60, 64, 67, 0.15);\n",
              "    fill: var(--button-hover-fill-color);\n",
              "  }\n",
              "\n",
              "  .colab-df-quickchart-complete:disabled,\n",
              "  .colab-df-quickchart-complete:disabled:hover {\n",
              "    background-color: var(--disabled-bg-color);\n",
              "    fill: var(--disabled-fill-color);\n",
              "    box-shadow: none;\n",
              "  }\n",
              "\n",
              "  .colab-df-spinner {\n",
              "    border: 2px solid var(--fill-color);\n",
              "    border-color: transparent;\n",
              "    border-bottom-color: var(--fill-color);\n",
              "    animation:\n",
              "      spin 1s steps(1) infinite;\n",
              "  }\n",
              "\n",
              "  @keyframes spin {\n",
              "    0% {\n",
              "      border-color: transparent;\n",
              "      border-bottom-color: var(--fill-color);\n",
              "      border-left-color: var(--fill-color);\n",
              "    }\n",
              "    20% {\n",
              "      border-color: transparent;\n",
              "      border-left-color: var(--fill-color);\n",
              "      border-top-color: var(--fill-color);\n",
              "    }\n",
              "    30% {\n",
              "      border-color: transparent;\n",
              "      border-left-color: var(--fill-color);\n",
              "      border-top-color: var(--fill-color);\n",
              "      border-right-color: var(--fill-color);\n",
              "    }\n",
              "    40% {\n",
              "      border-color: transparent;\n",
              "      border-right-color: var(--fill-color);\n",
              "      border-top-color: var(--fill-color);\n",
              "    }\n",
              "    60% {\n",
              "      border-color: transparent;\n",
              "      border-right-color: var(--fill-color);\n",
              "    }\n",
              "    80% {\n",
              "      border-color: transparent;\n",
              "      border-right-color: var(--fill-color);\n",
              "      border-bottom-color: var(--fill-color);\n",
              "    }\n",
              "    90% {\n",
              "      border-color: transparent;\n",
              "      border-bottom-color: var(--fill-color);\n",
              "    }\n",
              "  }\n",
              "</style>\n",
              "\n",
              "  <script>\n",
              "    async function quickchart(key) {\n",
              "      const quickchartButtonEl =\n",
              "        document.querySelector('#' + key + ' button');\n",
              "      quickchartButtonEl.disabled = true;  // To prevent multiple clicks.\n",
              "      quickchartButtonEl.classList.add('colab-df-spinner');\n",
              "      try {\n",
              "        const charts = await google.colab.kernel.invokeFunction(\n",
              "            'suggestCharts', [key], {});\n",
              "      } catch (error) {\n",
              "        console.error('Error during call to suggestCharts:', error);\n",
              "      }\n",
              "      quickchartButtonEl.classList.remove('colab-df-spinner');\n",
              "      quickchartButtonEl.classList.add('colab-df-quickchart-complete');\n",
              "    }\n",
              "    (() => {\n",
              "      let quickchartButtonEl =\n",
              "        document.querySelector('#df-2cf1a1cb-6961-4676-b0ef-1132b66f554a button');\n",
              "      quickchartButtonEl.style.display =\n",
              "        google.colab.kernel.accessAllowed ? 'block' : 'none';\n",
              "    })();\n",
              "  </script>\n",
              "</div>\n",
              "\n",
              "    </div>\n",
              "  </div>\n"
            ],
            "application/vnd.google.colaboratory.intrinsic+json": {
              "type": "dataframe"
            }
          },
          "metadata": {},
          "execution_count": 77
        }
      ],
      "source": [
        "#Duplicates\n",
        "\n",
        "df[df.duplicated()]"
      ]
    },
    {
      "cell_type": "markdown",
      "metadata": {
        "id": "pV7PakF9XBWy"
      },
      "source": [
        "There is slight change in the data these are not complitely duplicate values, So will not drop the duplicates."
      ]
    },
    {
      "cell_type": "markdown",
      "metadata": {
        "id": "3odf55D7XLFo"
      },
      "source": [
        "## EDA\n",
        "\n",
        "We'll perform EDA on time, amount and target column"
      ]
    },
    {
      "cell_type": "code",
      "execution_count": null,
      "metadata": {
        "colab": {
          "base_uri": "https://localhost:8080/",
          "height": 300
        },
        "id": "xb2CeiyPYXCk",
        "outputId": "bafe2343-956a-44c6-93a8-e76c31916bf8"
      },
      "outputs": [
        {
          "output_type": "execute_result",
          "data": {
            "text/plain": [
              "                Time         Amount\n",
              "count  284807.000000  284807.000000\n",
              "mean    94813.859575      88.349619\n",
              "std     47488.145955     250.120109\n",
              "min         0.000000       0.000000\n",
              "25%     54201.500000       5.600000\n",
              "50%     84692.000000      22.000000\n",
              "75%    139320.500000      77.165000\n",
              "max    172792.000000   25691.160000"
            ],
            "text/html": [
              "\n",
              "  <div id=\"df-45dc9487-731e-4787-86c5-5ceaffdbe6cc\" class=\"colab-df-container\">\n",
              "    <div>\n",
              "<style scoped>\n",
              "    .dataframe tbody tr th:only-of-type {\n",
              "        vertical-align: middle;\n",
              "    }\n",
              "\n",
              "    .dataframe tbody tr th {\n",
              "        vertical-align: top;\n",
              "    }\n",
              "\n",
              "    .dataframe thead th {\n",
              "        text-align: right;\n",
              "    }\n",
              "</style>\n",
              "<table border=\"1\" class=\"dataframe\">\n",
              "  <thead>\n",
              "    <tr style=\"text-align: right;\">\n",
              "      <th></th>\n",
              "      <th>Time</th>\n",
              "      <th>Amount</th>\n",
              "    </tr>\n",
              "  </thead>\n",
              "  <tbody>\n",
              "    <tr>\n",
              "      <th>count</th>\n",
              "      <td>284807.000000</td>\n",
              "      <td>284807.000000</td>\n",
              "    </tr>\n",
              "    <tr>\n",
              "      <th>mean</th>\n",
              "      <td>94813.859575</td>\n",
              "      <td>88.349619</td>\n",
              "    </tr>\n",
              "    <tr>\n",
              "      <th>std</th>\n",
              "      <td>47488.145955</td>\n",
              "      <td>250.120109</td>\n",
              "    </tr>\n",
              "    <tr>\n",
              "      <th>min</th>\n",
              "      <td>0.000000</td>\n",
              "      <td>0.000000</td>\n",
              "    </tr>\n",
              "    <tr>\n",
              "      <th>25%</th>\n",
              "      <td>54201.500000</td>\n",
              "      <td>5.600000</td>\n",
              "    </tr>\n",
              "    <tr>\n",
              "      <th>50%</th>\n",
              "      <td>84692.000000</td>\n",
              "      <td>22.000000</td>\n",
              "    </tr>\n",
              "    <tr>\n",
              "      <th>75%</th>\n",
              "      <td>139320.500000</td>\n",
              "      <td>77.165000</td>\n",
              "    </tr>\n",
              "    <tr>\n",
              "      <th>max</th>\n",
              "      <td>172792.000000</td>\n",
              "      <td>25691.160000</td>\n",
              "    </tr>\n",
              "  </tbody>\n",
              "</table>\n",
              "</div>\n",
              "    <div class=\"colab-df-buttons\">\n",
              "\n",
              "  <div class=\"colab-df-container\">\n",
              "    <button class=\"colab-df-convert\" onclick=\"convertToInteractive('df-45dc9487-731e-4787-86c5-5ceaffdbe6cc')\"\n",
              "            title=\"Convert this dataframe to an interactive table.\"\n",
              "            style=\"display:none;\">\n",
              "\n",
              "  <svg xmlns=\"http://www.w3.org/2000/svg\" height=\"24px\" viewBox=\"0 -960 960 960\">\n",
              "    <path d=\"M120-120v-720h720v720H120Zm60-500h600v-160H180v160Zm220 220h160v-160H400v160Zm0 220h160v-160H400v160ZM180-400h160v-160H180v160Zm440 0h160v-160H620v160ZM180-180h160v-160H180v160Zm440 0h160v-160H620v160Z\"/>\n",
              "  </svg>\n",
              "    </button>\n",
              "\n",
              "  <style>\n",
              "    .colab-df-container {\n",
              "      display:flex;\n",
              "      gap: 12px;\n",
              "    }\n",
              "\n",
              "    .colab-df-convert {\n",
              "      background-color: #E8F0FE;\n",
              "      border: none;\n",
              "      border-radius: 50%;\n",
              "      cursor: pointer;\n",
              "      display: none;\n",
              "      fill: #1967D2;\n",
              "      height: 32px;\n",
              "      padding: 0 0 0 0;\n",
              "      width: 32px;\n",
              "    }\n",
              "\n",
              "    .colab-df-convert:hover {\n",
              "      background-color: #E2EBFA;\n",
              "      box-shadow: 0px 1px 2px rgba(60, 64, 67, 0.3), 0px 1px 3px 1px rgba(60, 64, 67, 0.15);\n",
              "      fill: #174EA6;\n",
              "    }\n",
              "\n",
              "    .colab-df-buttons div {\n",
              "      margin-bottom: 4px;\n",
              "    }\n",
              "\n",
              "    [theme=dark] .colab-df-convert {\n",
              "      background-color: #3B4455;\n",
              "      fill: #D2E3FC;\n",
              "    }\n",
              "\n",
              "    [theme=dark] .colab-df-convert:hover {\n",
              "      background-color: #434B5C;\n",
              "      box-shadow: 0px 1px 3px 1px rgba(0, 0, 0, 0.15);\n",
              "      filter: drop-shadow(0px 1px 2px rgba(0, 0, 0, 0.3));\n",
              "      fill: #FFFFFF;\n",
              "    }\n",
              "  </style>\n",
              "\n",
              "    <script>\n",
              "      const buttonEl =\n",
              "        document.querySelector('#df-45dc9487-731e-4787-86c5-5ceaffdbe6cc button.colab-df-convert');\n",
              "      buttonEl.style.display =\n",
              "        google.colab.kernel.accessAllowed ? 'block' : 'none';\n",
              "\n",
              "      async function convertToInteractive(key) {\n",
              "        const element = document.querySelector('#df-45dc9487-731e-4787-86c5-5ceaffdbe6cc');\n",
              "        const dataTable =\n",
              "          await google.colab.kernel.invokeFunction('convertToInteractive',\n",
              "                                                    [key], {});\n",
              "        if (!dataTable) return;\n",
              "\n",
              "        const docLinkHtml = 'Like what you see? Visit the ' +\n",
              "          '<a target=\"_blank\" href=https://colab.research.google.com/notebooks/data_table.ipynb>data table notebook</a>'\n",
              "          + ' to learn more about interactive tables.';\n",
              "        element.innerHTML = '';\n",
              "        dataTable['output_type'] = 'display_data';\n",
              "        await google.colab.output.renderOutput(dataTable, element);\n",
              "        const docLink = document.createElement('div');\n",
              "        docLink.innerHTML = docLinkHtml;\n",
              "        element.appendChild(docLink);\n",
              "      }\n",
              "    </script>\n",
              "  </div>\n",
              "\n",
              "\n",
              "<div id=\"df-77c2d3b1-03f5-41e5-9fcd-544aa83f80a9\">\n",
              "  <button class=\"colab-df-quickchart\" onclick=\"quickchart('df-77c2d3b1-03f5-41e5-9fcd-544aa83f80a9')\"\n",
              "            title=\"Suggest charts\"\n",
              "            style=\"display:none;\">\n",
              "\n",
              "<svg xmlns=\"http://www.w3.org/2000/svg\" height=\"24px\"viewBox=\"0 0 24 24\"\n",
              "     width=\"24px\">\n",
              "    <g>\n",
              "        <path d=\"M19 3H5c-1.1 0-2 .9-2 2v14c0 1.1.9 2 2 2h14c1.1 0 2-.9 2-2V5c0-1.1-.9-2-2-2zM9 17H7v-7h2v7zm4 0h-2V7h2v10zm4 0h-2v-4h2v4z\"/>\n",
              "    </g>\n",
              "</svg>\n",
              "  </button>\n",
              "\n",
              "<style>\n",
              "  .colab-df-quickchart {\n",
              "      --bg-color: #E8F0FE;\n",
              "      --fill-color: #1967D2;\n",
              "      --hover-bg-color: #E2EBFA;\n",
              "      --hover-fill-color: #174EA6;\n",
              "      --disabled-fill-color: #AAA;\n",
              "      --disabled-bg-color: #DDD;\n",
              "  }\n",
              "\n",
              "  [theme=dark] .colab-df-quickchart {\n",
              "      --bg-color: #3B4455;\n",
              "      --fill-color: #D2E3FC;\n",
              "      --hover-bg-color: #434B5C;\n",
              "      --hover-fill-color: #FFFFFF;\n",
              "      --disabled-bg-color: #3B4455;\n",
              "      --disabled-fill-color: #666;\n",
              "  }\n",
              "\n",
              "  .colab-df-quickchart {\n",
              "    background-color: var(--bg-color);\n",
              "    border: none;\n",
              "    border-radius: 50%;\n",
              "    cursor: pointer;\n",
              "    display: none;\n",
              "    fill: var(--fill-color);\n",
              "    height: 32px;\n",
              "    padding: 0;\n",
              "    width: 32px;\n",
              "  }\n",
              "\n",
              "  .colab-df-quickchart:hover {\n",
              "    background-color: var(--hover-bg-color);\n",
              "    box-shadow: 0 1px 2px rgba(60, 64, 67, 0.3), 0 1px 3px 1px rgba(60, 64, 67, 0.15);\n",
              "    fill: var(--button-hover-fill-color);\n",
              "  }\n",
              "\n",
              "  .colab-df-quickchart-complete:disabled,\n",
              "  .colab-df-quickchart-complete:disabled:hover {\n",
              "    background-color: var(--disabled-bg-color);\n",
              "    fill: var(--disabled-fill-color);\n",
              "    box-shadow: none;\n",
              "  }\n",
              "\n",
              "  .colab-df-spinner {\n",
              "    border: 2px solid var(--fill-color);\n",
              "    border-color: transparent;\n",
              "    border-bottom-color: var(--fill-color);\n",
              "    animation:\n",
              "      spin 1s steps(1) infinite;\n",
              "  }\n",
              "\n",
              "  @keyframes spin {\n",
              "    0% {\n",
              "      border-color: transparent;\n",
              "      border-bottom-color: var(--fill-color);\n",
              "      border-left-color: var(--fill-color);\n",
              "    }\n",
              "    20% {\n",
              "      border-color: transparent;\n",
              "      border-left-color: var(--fill-color);\n",
              "      border-top-color: var(--fill-color);\n",
              "    }\n",
              "    30% {\n",
              "      border-color: transparent;\n",
              "      border-left-color: var(--fill-color);\n",
              "      border-top-color: var(--fill-color);\n",
              "      border-right-color: var(--fill-color);\n",
              "    }\n",
              "    40% {\n",
              "      border-color: transparent;\n",
              "      border-right-color: var(--fill-color);\n",
              "      border-top-color: var(--fill-color);\n",
              "    }\n",
              "    60% {\n",
              "      border-color: transparent;\n",
              "      border-right-color: var(--fill-color);\n",
              "    }\n",
              "    80% {\n",
              "      border-color: transparent;\n",
              "      border-right-color: var(--fill-color);\n",
              "      border-bottom-color: var(--fill-color);\n",
              "    }\n",
              "    90% {\n",
              "      border-color: transparent;\n",
              "      border-bottom-color: var(--fill-color);\n",
              "    }\n",
              "  }\n",
              "</style>\n",
              "\n",
              "  <script>\n",
              "    async function quickchart(key) {\n",
              "      const quickchartButtonEl =\n",
              "        document.querySelector('#' + key + ' button');\n",
              "      quickchartButtonEl.disabled = true;  // To prevent multiple clicks.\n",
              "      quickchartButtonEl.classList.add('colab-df-spinner');\n",
              "      try {\n",
              "        const charts = await google.colab.kernel.invokeFunction(\n",
              "            'suggestCharts', [key], {});\n",
              "      } catch (error) {\n",
              "        console.error('Error during call to suggestCharts:', error);\n",
              "      }\n",
              "      quickchartButtonEl.classList.remove('colab-df-spinner');\n",
              "      quickchartButtonEl.classList.add('colab-df-quickchart-complete');\n",
              "    }\n",
              "    (() => {\n",
              "      let quickchartButtonEl =\n",
              "        document.querySelector('#df-77c2d3b1-03f5-41e5-9fcd-544aa83f80a9 button');\n",
              "      quickchartButtonEl.style.display =\n",
              "        google.colab.kernel.accessAllowed ? 'block' : 'none';\n",
              "    })();\n",
              "  </script>\n",
              "</div>\n",
              "\n",
              "    </div>\n",
              "  </div>\n"
            ],
            "application/vnd.google.colaboratory.intrinsic+json": {
              "type": "dataframe",
              "summary": "{\n  \"name\": \"df[[\\\"Time\\\", \\\"Amount\\\"]]\",\n  \"rows\": 8,\n  \"fields\": [\n    {\n      \"column\": \"Time\",\n      \"properties\": {\n        \"dtype\": \"number\",\n        \"std\": 88923.63361429356,\n        \"min\": 0.0,\n        \"max\": 284807.0,\n        \"samples\": [\n          94813.85957508067,\n          84692.0,\n          284807.0\n        ],\n        \"num_unique_values\": 8,\n        \"semantic_type\": \"\",\n        \"description\": \"\"\n      }\n    },\n    {\n      \"column\": \"Amount\",\n      \"properties\": {\n        \"dtype\": \"number\",\n        \"std\": 99778.01856206656,\n        \"min\": 0.0,\n        \"max\": 284807.0,\n        \"samples\": [\n          88.34961925093133,\n          22.0,\n          284807.0\n        ],\n        \"num_unique_values\": 8,\n        \"semantic_type\": \"\",\n        \"description\": \"\"\n      }\n    }\n  ]\n}"
            }
          },
          "metadata": {},
          "execution_count": 78
        }
      ],
      "source": [
        "df[[\"Time\", \"Amount\"]].describe()"
      ]
    },
    {
      "cell_type": "code",
      "execution_count": null,
      "metadata": {
        "colab": {
          "base_uri": "https://localhost:8080/",
          "height": 869
        },
        "id": "EV3keHQ3WzZO",
        "outputId": "b3f8fc5a-4d8e-4832-a888-9a52c275c00f"
      },
      "outputs": [
        {
          "output_type": "stream",
          "name": "stderr",
          "text": [
            "<ipython-input-79-a5d144711efa>:6: UserWarning: \n",
            "\n",
            "`distplot` is a deprecated function and will be removed in seaborn v0.14.0.\n",
            "\n",
            "Please adapt your code to use either `displot` (a figure-level function with\n",
            "similar flexibility) or `histplot` (an axes-level function for histograms).\n",
            "\n",
            "For a guide to updating your code to use the new functions, please see\n",
            "https://gist.github.com/mwaskom/de44147ed2974457ad6372750bbe5751\n",
            "\n",
            "  sns.distplot(df[\"Time\"], ax=ax[0], kde=True).set_title(\"Time\")\n",
            "<ipython-input-79-a5d144711efa>:9: UserWarning: \n",
            "\n",
            "`distplot` is a deprecated function and will be removed in seaborn v0.14.0.\n",
            "\n",
            "Please adapt your code to use either `displot` (a figure-level function with\n",
            "similar flexibility) or `histplot` (an axes-level function for histograms).\n",
            "\n",
            "For a guide to updating your code to use the new functions, please see\n",
            "https://gist.github.com/mwaskom/de44147ed2974457ad6372750bbe5751\n",
            "\n",
            "  sns.distplot(df[\"Amount\"], ax=ax[1], kde=True).set_title(\"Amount\")\n"
          ]
        },
        {
          "output_type": "display_data",
          "data": {
            "text/plain": [
              "<Figure size 1500x500 with 2 Axes>"
            ],
            "image/png": "[encoded data removed]"
          },
          "metadata": {}
        }
      ],
      "source": [
        "columns = [\"Time\", \"Amount\"]\n",
        "\n",
        "fig, ax = plt.subplots(1, 2, figsize = (15, 5))\n",
        "ax = ax.flatten()\n",
        "\n",
        "sns.distplot(df[\"Time\"], ax=ax[0], kde=True).set_title(\"Time\")\n",
        "ax[0].set_xlim(df[\"Time\"].min(), df[\"Time\"].max())\n",
        "\n",
        "sns.distplot(df[\"Amount\"], ax=ax[1], kde=True).set_title(\"Amount\")\n",
        "ax[1].set_xlim(df[\"Amount\"].min(), df[\"Amount\"].max())\n",
        "\n",
        "plt.show()"
      ]
    },
    {
      "cell_type": "markdown",
      "metadata": {
        "id": "pj98rS_niI6D"
      },
      "source": [
        "We'll perform scaling on Time and Amount"
      ]
    },
    {
      "cell_type": "code",
      "execution_count": null,
      "metadata": {
        "colab": {
          "base_uri": "https://localhost:8080/",
          "height": 510
        },
        "id": "md_O33ZZiUeZ",
        "outputId": "6459c05c-7745-41c4-a146-6cae2565da82"
      },
      "outputs": [
        {
          "output_type": "execute_result",
          "data": {
            "text/plain": [
              "([<matplotlib.patches.Wedge at 0x7b360818ee30>,\n",
              "  <matplotlib.patches.Wedge at 0x7b360818ed40>],\n",
              " [Text(-1.09998380137016, 0.0059696501784341355, '1'),\n",
              "  Text(1.199982329255704, -0.006512255681064682, '0')],\n",
              " [Text(-0.5999911643837235, 0.0032561728246004373, '99.827%'),\n",
              "  Text(0.6999896920658272, -0.0037988158139543975, '0.173%')])"
            ]
          },
          "metadata": {},
          "execution_count": 80
        },
        {
          "output_type": "display_data",
          "data": {
            "text/plain": [
              "<Figure size 640x480 with 1 Axes>"
            ],
            "image/png": "[encoded data removed]"
          },
          "metadata": {}
        }
      ],
      "source": [
        "plt.pie(df[\"Class\"].value_counts(), autopct='%.03f%%',labels = [1, 0], explode = [0, 0.1])"
      ]
    },
    {
      "cell_type": "markdown",
      "metadata": {
        "id": "IlPQ_3wtmpig"
      },
      "source": [
        "The data is highly imbalanced"
      ]
    },
    {
      "cell_type": "markdown",
      "metadata": {
        "id": "BeN-oKAhnjv3"
      },
      "source": [
        "## Ways to handle the imbalanced data.\n",
        "- Undersampling\n",
        "- Oversampling(SMOTE)\n",
        "- SMOTE + ANN"
      ]
    },
    {
      "cell_type": "markdown",
      "metadata": {
        "id": "qjWxsOUFyRFm"
      },
      "source": [
        "First we'll scale time and amount using RobustScaler"
      ]
    },
    {
      "cell_type": "code",
      "execution_count": null,
      "metadata": {
        "id": "717v08oZst31"
      },
      "outputs": [],
      "source": [
        "from sklearn.preprocessing import RobustScaler\n",
        "\n",
        "scaler = RobustScaler()\n",
        "\n",
        "df[[\"Time\", \"Amount\"]] = scaler.fit_transform(df[[\"Time\", \"Amount\"]].values)"
      ]
    },
    {
      "cell_type": "code",
      "execution_count": null,
      "metadata": {
        "id": "v87zdAViy5sX"
      },
      "outputs": [],
      "source": [
        "X = df.drop([\"Class\"], axis=1)\n",
        "y = df[\"Class\"]"
      ]
    },
    {
      "cell_type": "markdown",
      "metadata": {
        "id": "27dJGRbpn-Sj"
      },
      "source": [
        "We will separate train data and validation (test) data.\n",
        "\n",
        "Which will have the similar distributions."
      ]
    },
    {
      "cell_type": "code",
      "execution_count": null,
      "metadata": {
        "id": "mIKxVVMJyj4C"
      },
      "outputs": [],
      "source": [
        "# from sklearn.model_selection import StratifiedShuffleSplit\n",
        "\n",
        "# # Create a StratifiedShuffleSplit object\n",
        "# sss = StratifiedShuffleSplit(n_splits=5, test_size=0.2)\n",
        "\n",
        "# # Split the data into training and test sets\n",
        "# for train, test in sss.split(X, y):\n",
        "#   X_train, X_test, y_train, y_test = X.iloc[train], X.iloc[test], y.iloc[train], y.iloc[test]"
      ]
    },
    {
      "cell_type": "code",
      "execution_count": null,
      "metadata": {
        "id": "9tp9cwhi3Cmf"
      },
      "outputs": [],
      "source": [
        "from sklearn.model_selection import train_test_split\n",
        "\n",
        "X_train, X_test, y_train, y_test = train_test_split(X, y, test_size = 0.2, stratify=y, random_state = 123)"
      ]
    },
    {
      "cell_type": "code",
      "execution_count": null,
      "metadata": {
        "colab": {
          "base_uri": "https://localhost:8080/"
        },
        "id": "LlqSnhLcz9qn",
        "outputId": "37d78ebc-8543-4f76-e266-b7dfb4bd4149"
      },
      "outputs": [
        {
          "output_type": "execute_result",
          "data": {
            "text/plain": [
              "0    99.827075\n",
              "1     0.172925\n",
              "Name: Class, dtype: float64"
            ]
          },
          "metadata": {},
          "execution_count": 85
        }
      ],
      "source": [
        "y_train.value_counts() / y_train.shape[0] * 100"
      ]
    },
    {
      "cell_type": "code",
      "execution_count": null,
      "metadata": {
        "colab": {
          "base_uri": "https://localhost:8080/"
        },
        "id": "sJmmxxka0Pgc",
        "outputId": "9ea9d33a-fd97-4820-b3db-34b4eacba08d"
      },
      "outputs": [
        {
          "output_type": "execute_result",
          "data": {
            "text/plain": [
              "0    99.827955\n",
              "1     0.172045\n",
              "Name: Class, dtype: float64"
            ]
          },
          "metadata": {},
          "execution_count": 86
        }
      ],
      "source": [
        "y_test.value_counts() / y_test.shape[0] * 100"
      ]
    },
    {
      "cell_type": "markdown",
      "metadata": {
        "id": "BKb00GtX4rtO"
      },
      "source": [
        "Now we have our train and test data with similar distribution.\n",
        "\n",
        "Next we'll use under sampling technique. to train our model. and we'll use test data to check accuracy."
      ]
    },
    {
      "cell_type": "code",
      "execution_count": null,
      "metadata": {
        "colab": {
          "base_uri": "https://localhost:8080/"
        },
        "id": "iCh2-8G056AB",
        "outputId": "a1832c38-f5fb-4ac1-e340-215bc1f03fd5"
      },
      "outputs": [
        {
          "output_type": "execute_result",
          "data": {
            "text/plain": [
              "0    227451\n",
              "1       394\n",
              "Name: Class, dtype: int64"
            ]
          },
          "metadata": {},
          "execution_count": 87
        }
      ],
      "source": [
        "y_train.value_counts()"
      ]
    },
    {
      "cell_type": "markdown",
      "metadata": {
        "id": "UtMqoLBB5x2r"
      },
      "source": [
        "### Under Sampling\n",
        "There are 394 fraud transaction in our X_train, We'll randomly select 394 non fraud transaction it will make the ditribution balanced, But there is risk of loss of information."
      ]
    },
    {
      "cell_type": "code",
      "execution_count": null,
      "metadata": {
        "id": "kExZCwFK0Rp3"
      },
      "outputs": [],
      "source": [
        "from imblearn.under_sampling import RandomUnderSampler\n",
        "\n",
        "rus = RandomUnderSampler(random_state=1234)\n",
        "\n",
        "X_train_u_sample, y_train_u_sample = rus.fit_resample(X_train, y_train)"
      ]
    },
    {
      "cell_type": "markdown",
      "source": [
        "Now, We will try to train the ML models using under sampled data, also we'll check their classification metrics on test data."
      ],
      "metadata": {
        "id": "uipRT2hMSVz1"
      }
    },
    {
      "cell_type": "code",
      "execution_count": null,
      "metadata": {
        "id": "WdjRscVa9Fgf"
      },
      "outputs": [],
      "source": [
        "from sklearn.linear_model import LogisticRegression\n",
        "from xgboost import XGBClassifier\n",
        "\n",
        "lr = LogisticRegression()\n",
        "xgb = XGBClassifier()\n",
        "\n",
        "models = {\n",
        "    \"Logistic Regression\": lr,\n",
        "    \"XGBoost Classifier\": xgb\n",
        "}"
      ]
    },
    {
      "cell_type": "code",
      "source": [
        "from sklearn.metrics import accuracy_score, f1_score, roc_auc_score, confusion_matrix\n",
        "\n",
        "print(\"Under Sampling Results\")\n",
        "\n",
        "for i in models.keys():\n",
        "  print('Model: ', i, \"\\n\")\n",
        "  model = models[i]\n",
        "  model.fit(X_train_u_sample, y_train_u_sample)\n",
        "\n",
        "  y_pred = model.predict(X_test)\n",
        "\n",
        "  print(f\"Accuracy : {accuracy_score(y_test, y_pred)}\\n\")\n",
        "  print(f\"fl Score : {f1_score(y_test, y_pred)}\\n\")\n",
        "  print(f\"ROC AUC  : {accuracy_score(y_test, y_pred)}\\n\")\n",
        "  print(f\"Confussion Matrix : \\n{confusion_matrix(y_test, y_pred)}\\n\")\n",
        "  print(\"-\"*75)"
      ],
      "metadata": {
        "colab": {
          "base_uri": "https://localhost:8080/"
        },
        "id": "KrP_b2OqTF5o",
        "outputId": "079c9edb-0164-42cb-9b63-04e88b45db01"
      },
      "execution_count": null,
      "outputs": [
        {
          "output_type": "stream",
          "name": "stdout",
          "text": [
            "Under Sampling Results\n",
            "Model:  Logistic Regression \n",
            "\n",
            "Accuracy : 0.9774059899582178\n",
            "\n",
            "fl Score : 0.1166781056966369\n",
            "\n",
            "ROC AUC  : 0.9774059899582178\n",
            "\n",
            "Confussion Matrix : \n",
            "[[55590  1274]\n",
            " [   13    85]]\n",
            "\n",
            "---------------------------------------------------------------------------\n",
            "Model:  XGBoost Classifier \n",
            "\n",
            "Accuracy : 0.9702082089814262\n",
            "\n",
            "fl Score : 0.09105516871987146\n",
            "\n",
            "ROC AUC  : 0.9702082089814262\n",
            "\n",
            "Confussion Matrix : \n",
            "[[55180  1684]\n",
            " [   13    85]]\n",
            "\n",
            "---------------------------------------------------------------------------\n"
          ]
        }
      ]
    },
    {
      "cell_type": "markdown",
      "source": [
        "As we can see that f1 score is too low. It shows that models are not abble to recognise the non fraud transaction efficiently."
      ],
      "metadata": {
        "id": "UIyMrB5yW0hq"
      }
    },
    {
      "cell_type": "markdown",
      "source": [
        "### Over Sampling (SMOTE)\n",
        "SMOTE stands for Synthetic Minority Oversampling Technique. We use SMOTE to generate minority class having similar observations as majority class."
      ],
      "metadata": {
        "id": "7JI9ZUHhXQi5"
      }
    },
    {
      "cell_type": "code",
      "source": [
        "from imblearn.over_sampling import SMOTE\n",
        "\n",
        "smote = SMOTE(random_state=1234)\n",
        "\n",
        "X_train_o_sample, y_train_o_sample = smote.fit_resample(X_train, y_train)"
      ],
      "metadata": {
        "id": "6YGG0MT8TRWx"
      },
      "execution_count": null,
      "outputs": []
    },
    {
      "cell_type": "code",
      "source": [
        "new_df = pd.concat([X_train_o_sample, y_train_o_sample], axis=1)"
      ],
      "metadata": {
        "id": "qfpHqrQzsyKD"
      },
      "execution_count": null,
      "outputs": []
    },
    {
      "cell_type": "code",
      "source": [
        "new_df.corr()[\"Class\"].sort_values(ascending=False)"
      ],
      "metadata": {
        "colab": {
          "base_uri": "https://localhost:8080/"
        },
        "id": "hjcoUjM8tLBA",
        "outputId": "1ca2ccdf-d88a-4a9f-ba62-b4fb098858c8"
      },
      "execution_count": null,
      "outputs": [
        {
          "output_type": "execute_result",
          "data": {
            "text/plain": [
              "Class     1.000000\n",
              "V4        0.714535\n",
              "V11       0.705490\n",
              "V2        0.496433\n",
              "V19       0.297424\n",
              "V20       0.186594\n",
              "V21       0.135674\n",
              "V28       0.101624\n",
              "V27       0.090521\n",
              "V26       0.063131\n",
              "V8        0.055558\n",
              "V25       0.052244\n",
              "Amount    0.038580\n",
              "V23       0.028992\n",
              "V22      -0.004363\n",
              "V15      -0.035162\n",
              "V13      -0.064691\n",
              "V24      -0.088097\n",
              "Time     -0.169091\n",
              "V5       -0.386738\n",
              "V6       -0.414314\n",
              "V1       -0.430355\n",
              "V7       -0.481476\n",
              "V18      -0.485625\n",
              "V3       -0.563861\n",
              "V9       -0.577347\n",
              "V17      -0.584927\n",
              "V16      -0.614458\n",
              "V10      -0.637207\n",
              "V12      -0.693671\n",
              "V14      -0.763135\n",
              "Name: Class, dtype: float64"
            ]
          },
          "metadata": {},
          "execution_count": 96
        }
      ]
    },
    {
      "cell_type": "code",
      "source": [
        "for i in [\"V14\", \"V12\", \"V10\", \"V16\", \"V4\", \"V11\", \"V19\"]:\n",
        "  q3 = X_train_o_sample[i].quantile(0.75)\n",
        "  q1 = X_train_o_sample[i].quantile(0.25)\n",
        "  IQR = q3-q1\n",
        "  upper_limit = q3 + 1.5 * IQR\n",
        "  lower_limit = q1 - 1.5 * IQR\n",
        "  y_train_o_sample = y_train_o_sample[(X_train_o_sample[i] >= lower_limit) & (X_train_o_sample[i] <= upper_limit)]\n",
        "  X_train_o_sample = X_train_o_sample[(X_train_o_sample[i] >= lower_limit) & (X_train_o_sample[i] <= upper_limit)]"
      ],
      "metadata": {
        "id": "Tme-XYDeh2Ge"
      },
      "execution_count": null,
      "outputs": []
    },
    {
      "cell_type": "code",
      "source": [
        "print(\"OverSampling Results\")\n",
        "\n",
        "for i in models.keys():\n",
        "  print('Model: ', i, \"\\n\")\n",
        "  model = models[i]\n",
        "  model.fit(X_train_o_sample, y_train_o_sample)\n",
        "\n",
        "  y_pred = model.predict(X_test)\n",
        "\n",
        "  print(f\"Accuracy : {accuracy_score(y_test, y_pred)}\\n\")\n",
        "  print(f\"fl Score : {f1_score(y_test, y_pred)}\\n\")\n",
        "  print(f\"ROC AUC  : {accuracy_score(y_test, y_pred)}\\n\")\n",
        "  print(f\"Confussion Matrix : \\n{confusion_matrix(y_test, y_pred)}\\n\")\n",
        "  print(\"-\"*75)"
      ],
      "metadata": {
        "colab": {
          "base_uri": "https://localhost:8080/"
        },
        "id": "gEPWpRKUY9V5",
        "outputId": "c0afea7c-3f96-4c17-8a4f-d6579edc64ca"
      },
      "execution_count": null,
      "outputs": [
        {
          "output_type": "stream",
          "name": "stdout",
          "text": [
            "OverSampling Results\n",
            "Model:  Logistic Regression \n",
            "\n",
            "Accuracy : 0.9760717671430076\n",
            "\n",
            "fl Score : 0.11205211726384366\n",
            "\n",
            "ROC AUC  : 0.9760717671430076\n",
            "\n",
            "Confussion Matrix : \n",
            "[[55513  1351]\n",
            " [   12    86]]\n",
            "\n",
            "---------------------------------------------------------------------------\n",
            "Model:  XGBoost Classifier \n",
            "\n",
            "Accuracy : 0.9991573329588147\n",
            "\n",
            "fl Score : 0.7669902912621359\n",
            "\n",
            "ROC AUC  : 0.9991573329588147\n",
            "\n",
            "Confussion Matrix : \n",
            "[[56835    29]\n",
            " [   19    79]]\n",
            "\n",
            "---------------------------------------------------------------------------\n"
          ]
        }
      ]
    },
    {
      "cell_type": "markdown",
      "source": [
        "XGBoost showed a better ability to identify non fraud transactions."
      ],
      "metadata": {
        "id": "tR4Hb1lXf7K0"
      }
    },
    {
      "cell_type": "markdown",
      "source": [
        "### ANN + SMOTE\n",
        "To gain better accuracy we'll use ANN with smote. To understand more complex pattern from data."
      ],
      "metadata": {
        "id": "4h_f5Zr7gJB8"
      }
    },
    {
      "cell_type": "code",
      "source": [
        "from tensorflow.keras.layers import Input, Dense, BatchNormalization\n",
        "from tensorflow.keras.models import Model"
      ],
      "metadata": {
        "id": "189r9hAceERu"
      },
      "execution_count": null,
      "outputs": []
    },
    {
      "cell_type": "code",
      "source": [
        "input_layer = Input((30))\n",
        "\n",
        "l1 = Dense(128, activation = \"relu\")(input_layer)\n",
        "b1 = BatchNormalization()(l1)\n",
        "l2 = Dense(128, activation = \"relu\")(b1)\n",
        "b2 = BatchNormalization()(l2)\n",
        "l3 = Dense(128, activation= \"relu\")(b2)\n",
        "b3 = BatchNormalization()(l3)\n",
        "output_layer = Dense(2, activation = \"softmax\")(b3)\n",
        "\n",
        "model = Model(input_layer, output_layer)\n",
        "\n",
        "model.summary()"
      ],
      "metadata": {
        "colab": {
          "base_uri": "https://localhost:8080/"
        },
        "id": "mHlj-GmfiKSL",
        "outputId": "ed825351-1f6b-47bd-b82d-d96274ddef0d"
      },
      "execution_count": null,
      "outputs": [
        {
          "output_type": "stream",
          "name": "stdout",
          "text": [
            "Model: \"model_1\"\n",
            "_________________________________________________________________\n",
            " Layer (type)                Output Shape              Param #   \n",
            "=================================================================\n",
            " input_2 (InputLayer)        [(None, 30)]              0         \n",
            "                                                                 \n",
            " dense_4 (Dense)             (None, 128)               3968      \n",
            "                                                                 \n",
            " batch_normalization_3 (Bat  (None, 128)               512       \n",
            " chNormalization)                                                \n",
            "                                                                 \n",
            " dense_5 (Dense)             (None, 128)               16512     \n",
            "                                                                 \n",
            " batch_normalization_4 (Bat  (None, 128)               512       \n",
            " chNormalization)                                                \n",
            "                                                                 \n",
            " dense_6 (Dense)             (None, 128)               16512     \n",
            "                                                                 \n",
            " batch_normalization_5 (Bat  (None, 128)               512       \n",
            " chNormalization)                                                \n",
            "                                                                 \n",
            " dense_7 (Dense)             (None, 2)                 258       \n",
            "                                                                 \n",
            "=================================================================\n",
            "Total params: 38786 (151.51 KB)\n",
            "Trainable params: 38018 (148.51 KB)\n",
            "Non-trainable params: 768 (3.00 KB)\n",
            "_________________________________________________________________\n"
          ]
        }
      ]
    },
    {
      "cell_type": "code",
      "source": [
        "from tensorflow.keras import callbacks\n",
        "import tensorflow.keras.backend as K\n",
        "\n",
        "model_checkpoint_callback = callbacks.ModelCheckpoint(\n",
        "    filepath=\"./checkpoint\",\n",
        "    save_weights_only=False,\n",
        "    save_freq=\"epoch\",\n",
        "    monitor=\"loss\",\n",
        "    mode=\"min\",\n",
        "    save_best_only=True,\n",
        "    verbose=0,\n",
        ")\n",
        "\n",
        "model.compile(optimizer = \"adam\", loss=\"sparse_categorical_crossentropy\", metrics=[\"accuracy\"])"
      ],
      "metadata": {
        "id": "FJaGdOuvjlqC"
      },
      "execution_count": null,
      "outputs": []
    },
    {
      "cell_type": "code",
      "source": [
        "history = model.fit(X_train_o_sample, y_train_o_sample, epochs = 20, validation_data=(X_test, y_test), callbacks=[model_checkpoint_callback])"
      ],
      "metadata": {
        "colab": {
          "base_uri": "https://localhost:8080/"
        },
        "id": "ZNiqwLkij0EL",
        "outputId": "a2b49182-ed0c-49df-b4ca-79ad563b99dd"
      },
      "execution_count": null,
      "outputs": [
        {
          "output_type": "stream",
          "name": "stdout",
          "text": [
            "Epoch 1/20\n",
            "11103/11103 [==============================] - 73s 6ms/step - loss: 0.0016 - accuracy: 0.9996 - val_loss: 0.0336 - val_accuracy: 0.9992\n",
            "Epoch 2/20\n",
            "11103/11103 [==============================] - 68s 6ms/step - loss: 0.0015 - accuracy: 0.9996 - val_loss: 0.0293 - val_accuracy: 0.9989\n",
            "Epoch 3/20\n",
            "11103/11103 [==============================] - 69s 6ms/step - loss: 0.0014 - accuracy: 0.9997 - val_loss: 0.0296 - val_accuracy: 0.9991\n",
            "Epoch 4/20\n",
            "11103/11103 [==============================] - 64s 6ms/step - loss: 0.0015 - accuracy: 0.9996 - val_loss: 0.0252 - val_accuracy: 0.9989\n",
            "Epoch 5/20\n",
            "11103/11103 [==============================] - 67s 6ms/step - loss: 0.0013 - accuracy: 0.9997 - val_loss: 0.0229 - val_accuracy: 0.9989\n",
            "Epoch 6/20\n",
            "11103/11103 [==============================] - 64s 6ms/step - loss: 0.0013 - accuracy: 0.9997 - val_loss: 0.0250 - val_accuracy: 0.9988\n",
            "Epoch 7/20\n",
            "11103/11103 [==============================] - 67s 6ms/step - loss: 0.0013 - accuracy: 0.9997 - val_loss: 0.0404 - val_accuracy: 0.9991\n",
            "Epoch 8/20\n",
            "11103/11103 [==============================] - 69s 6ms/step - loss: 0.0012 - accuracy: 0.9996 - val_loss: 0.0354 - val_accuracy: 0.9992\n",
            "Epoch 9/20\n",
            "11103/11103 [==============================] - 68s 6ms/step - loss: 0.0012 - accuracy: 0.9997 - val_loss: 0.0348 - val_accuracy: 0.9991\n",
            "Epoch 10/20\n",
            "11103/11103 [==============================] - 66s 6ms/step - loss: 0.0010 - accuracy: 0.9997 - val_loss: 0.0215 - val_accuracy: 0.9991\n",
            "Epoch 11/20\n",
            "11103/11103 [==============================] - 66s 6ms/step - loss: 0.0012 - accuracy: 0.9997 - val_loss: 0.0324 - val_accuracy: 0.9992\n",
            "Epoch 12/20\n",
            "11103/11103 [==============================] - 68s 6ms/step - loss: 0.0013 - accuracy: 0.9997 - val_loss: 0.0305 - val_accuracy: 0.9992\n",
            "Epoch 13/20\n",
            "11103/11103 [==============================] - 67s 6ms/step - loss: 9.9801e-04 - accuracy: 0.9997 - val_loss: 0.0587 - val_accuracy: 0.9991\n",
            "Epoch 14/20\n",
            "11103/11103 [==============================] - 67s 6ms/step - loss: 0.0012 - accuracy: 0.9997 - val_loss: 0.0768 - val_accuracy: 0.9992\n",
            "Epoch 15/20\n",
            "11103/11103 [==============================] - 68s 6ms/step - loss: 0.0010 - accuracy: 0.9997 - val_loss: 0.0410 - val_accuracy: 0.9991\n",
            "Epoch 16/20\n",
            "11103/11103 [==============================] - 68s 6ms/step - loss: 9.8610e-04 - accuracy: 0.9997 - val_loss: 0.0693 - val_accuracy: 0.9991\n",
            "Epoch 17/20\n",
            "11103/11103 [==============================] - 68s 6ms/step - loss: 9.6695e-04 - accuracy: 0.9998 - val_loss: 0.0838 - val_accuracy: 0.9991\n",
            "Epoch 18/20\n",
            "11103/11103 [==============================] - 69s 6ms/step - loss: 9.2922e-04 - accuracy: 0.9998 - val_loss: 0.0461 - val_accuracy: 0.9993\n",
            "Epoch 19/20\n",
            "11103/11103 [==============================] - 66s 6ms/step - loss: 9.5382e-04 - accuracy: 0.9997 - val_loss: 0.0394 - val_accuracy: 0.9993\n",
            "Epoch 20/20\n",
            "11103/11103 [==============================] - 66s 6ms/step - loss: 0.0011 - accuracy: 0.9998 - val_loss: 0.0461 - val_accuracy: 0.9992\n"
          ]
        }
      ]
    },
    {
      "cell_type": "code",
      "source": [
        "y_pred = model.predict(X_test)"
      ],
      "metadata": {
        "colab": {
          "base_uri": "https://localhost:8080/"
        },
        "id": "R3ar4cjdkI_7",
        "outputId": "13e35e3e-c28d-4103-92b2-ffdaf6d47345"
      },
      "execution_count": null,
      "outputs": [
        {
          "output_type": "stream",
          "name": "stdout",
          "text": [
            "1781/1781 [==============================] - 3s 2ms/step\n"
          ]
        }
      ]
    },
    {
      "cell_type": "code",
      "source": [
        "y_pred = np.argmax(y_pred, axis=1)\n",
        "\n",
        "print(f\"Accuracy : {accuracy_score(y_test, y_pred)}\\n\")\n",
        "print(f\"fl Score : {f1_score(y_test, y_pred)}\\n\")\n",
        "print(f\"ROC AUC  : {accuracy_score(y_test, y_pred)}\\n\")\n",
        "print(f\"Confussion Matrix : \\n{confusion_matrix(y_test, y_pred)}\\n\")"
      ],
      "metadata": {
        "colab": {
          "base_uri": "https://localhost:8080/"
        },
        "id": "vIG7Vzn4qHH5",
        "outputId": "10347e72-bc9a-4057-a487-daa46f769d2a"
      },
      "execution_count": null,
      "outputs": [
        {
          "output_type": "stream",
          "name": "stdout",
          "text": [
            "Accuracy : 0.9988939995084443\n",
            "\n",
            "fl Score : 0.6834170854271358\n",
            "\n",
            "ROC AUC  : 0.9988939995084443\n",
            "\n",
            "Confussion Matrix : \n",
            "[[56831    33]\n",
            " [   30    68]]\n",
            "\n"
          ]
        }
      ]
    },
    {
      "cell_type": "code",
      "source": [],
      "metadata": {
        "id": "XpnYac2Sqp1-"
      },
      "execution_count": null,
      "outputs": []
    }
  ],
  "metadata": {
    "colab": {
      "provenance": [],
      "gpuType": "T4"
    },
    "kernelspec": {
      "display_name": "Python 3",
      "name": "python3"
    },
    "language_info": {
      "name": "python"
    },
    "accelerator": "GPU"
  },
  "nbformat": 4,
  "nbformat_minor": 0
}